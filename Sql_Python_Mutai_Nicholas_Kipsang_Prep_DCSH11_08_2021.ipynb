{
  "nbformat": 4,
  "nbformat_minor": 0,
  "metadata": {
    "colab": {
      "name": "Sql Python Mutai Nicholas Kipsang Prep DCSH11 08-2021.ipynb",
      "provenance": [],
      "authorship_tag": "ABX9TyNXDjd8jZEoDkkf2qPxXJPU",
      "include_colab_link": true
    },
    "kernelspec": {
      "name": "python3",
      "display_name": "Python 3"
    },
    "language_info": {
      "name": "python"
    }
  },
  "cells": [
    {
      "cell_type": "markdown",
      "metadata": {
        "id": "view-in-github",
        "colab_type": "text"
      },
      "source": [
        "<a href=\"https://colab.research.google.com/github/kipsangchepesa/IP-week-four/blob/main/Sql_Python_Mutai_Nicholas_Kipsang_Prep_DCSH11_08_2021.ipynb\" target=\"_parent\"><img src=\"https://colab.research.google.com/assets/colab-badge.svg\" alt=\"Open In Colab\"/></a>"
      ]
    },
    {
      "cell_type": "code",
      "metadata": {
        "id": "3Ul11t_fe5sx"
      },
      "source": [
        ""
      ],
      "execution_count": null,
      "outputs": []
    }
  ]
}