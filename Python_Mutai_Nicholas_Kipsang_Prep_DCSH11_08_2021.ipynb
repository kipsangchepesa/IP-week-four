{
  "nbformat": 4,
  "nbformat_minor": 0,
  "metadata": {
    "colab": {
      "name": "Python Mutai Nicholas Kipsang Prep DCSH11 08-2021.ipynb",
      "provenance": [],
      "collapsed_sections": [],
      "toc_visible": true,
      "authorship_tag": "ABX9TyPp6cAc2bTr9jXG/VhTKvdb",
      "include_colab_link": true
    },
    "kernelspec": {
      "name": "python3",
      "display_name": "Python 3"
    },
    "language_info": {
      "name": "python"
    }
  },
  "cells": [
    {
      "cell_type": "markdown",
      "metadata": {
        "id": "view-in-github",
        "colab_type": "text"
      },
      "source": [
        "<a href=\"https://colab.research.google.com/github/kipsangchepesa/IP-week-four/blob/main/Python_Mutai_Nicholas_Kipsang_Prep_DCSH11_08_2021.ipynb\" target=\"_parent\"><img src=\"https://colab.research.google.com/assets/colab-badge.svg\" alt=\"Open In Colab\"/></a>"
      ]
    },
    {
      "cell_type": "markdown",
      "metadata": {
        "id": "tpUlDK16lqJB"
      },
      "source": [
        "# 1.1 Loading sql extentension and connecting to database\n"
      ]
    },
    {
      "cell_type": "code",
      "metadata": {
        "colab": {
          "base_uri": "https://localhost:8080/",
          "height": 71
        },
        "id": "NwT1yN1Ul1ww",
        "outputId": "cdb17ab0-c8fb-48a9-a6f4-d15d809fdf48"
      },
      "source": [
        "%load_ext sql\n",
        "%sql sqlite://"
      ],
      "execution_count": null,
      "outputs": [
        {
          "output_type": "stream",
          "text": [
            "The sql extension is already loaded. To reload it, use:\n",
            "  %reload_ext sql\n"
          ],
          "name": "stdout"
        },
        {
          "output_type": "execute_result",
          "data": {
            "application/vnd.google.colaboratory.intrinsic+json": {
              "type": "string"
            },
            "text/plain": [
              "'Connected: @None'"
            ]
          },
          "metadata": {
            "tags": []
          },
          "execution_count": 3
        }
      ]
    },
    {
      "cell_type": "markdown",
      "metadata": {
        "id": "oPLQ8yehl6EZ"
      },
      "source": [
        "# 1.2 After downloading autolib.csv from the other notebook"
      ]
    },
    {
      "cell_type": "code",
      "metadata": {
        "colab": {
          "base_uri": "https://localhost:8080/",
          "height": 472
        },
        "id": "VS9tcNZOl_xf",
        "outputId": "881ec1c8-d0e8-40d9-956c-e5392483b6c7"
      },
      "source": [
        "#importing pandas\n",
        "import pandas as pd\n",
        "\n",
        "#opening the csv file.\n",
        "\n",
        "with open('autolib.csv','r') as f:\n",
        "    Gari = pd.read_csv(f, index_col=0, encoding='utf-8')\n",
        "#creating table call Gari\n",
        "%sql DROP TABLE if EXISTS Gari;\n",
        "%sql PERSIST Gari;\n",
        "%sql SELECT * FROM Gari LIMIT 5"
      ],
      "execution_count": null,
      "outputs": [
        {
          "output_type": "stream",
          "text": [
            " * sqlite://\n",
            "Done.\n",
            " * sqlite://\n",
            " * sqlite://\n",
            "Done.\n"
          ],
          "name": "stdout"
        },
        {
          "output_type": "execute_result",
          "data": {
            "text/html": [
              "<table>\n",
              "    <thead>\n",
              "        <tr>\n",
              "            <th>index</th>\n",
              "            <th>Address</th>\n",
              "            <th>Cars</th>\n",
              "            <th>Bluecar counter</th>\n",
              "            <th>Utilib counter</th>\n",
              "            <th>Utilib 1.4 counter</th>\n",
              "            <th>Charge Slots</th>\n",
              "            <th>Charging Status</th>\n",
              "            <th>City</th>\n",
              "            <th>ID</th>\n",
              "            <th>Kind</th>\n",
              "            <th>Geo point</th>\n",
              "            <th>Postal code</th>\n",
              "            <th>Public name</th>\n",
              "            <th>Rental status</th>\n",
              "            <th>Slots</th>\n",
              "            <th>Station type</th>\n",
              "            <th>Status</th>\n",
              "            <th>Subscription status</th>\n",
              "            <th>year</th>\n",
              "            <th>month</th>\n",
              "            <th>day</th>\n",
              "            <th>hour</th>\n",
              "            <th>minute</th>\n",
              "        </tr>\n",
              "    </thead>\n",
              "    <tbody>\n",
              "        <tr>\n",
              "            <td>0</td>\n",
              "            <td>2 Avenue de Suffren</td>\n",
              "            <td>0</td>\n",
              "            <td>0</td>\n",
              "            <td>0</td>\n",
              "            <td>0</td>\n",
              "            <td>0</td>\n",
              "            <td>nonexistent</td>\n",
              "            <td>Paris</td>\n",
              "            <td>paris-suffren-2</td>\n",
              "            <td>STATION</td>\n",
              "            <td>48.857, 2.2917</td>\n",
              "            <td>75015</td>\n",
              "            <td>Paris/Suffren/2</td>\n",
              "            <td>operational</td>\n",
              "            <td>2</td>\n",
              "            <td>station</td>\n",
              "            <td>ok</td>\n",
              "            <td>nonexistent</td>\n",
              "            <td>2018</td>\n",
              "            <td>4</td>\n",
              "            <td>8</td>\n",
              "            <td>11</td>\n",
              "            <td>43</td>\n",
              "        </tr>\n",
              "        <tr>\n",
              "            <td>1</td>\n",
              "            <td>145 Rue Raymond Losserand</td>\n",
              "            <td>6</td>\n",
              "            <td>6</td>\n",
              "            <td>0</td>\n",
              "            <td>0</td>\n",
              "            <td>0</td>\n",
              "            <td>operational</td>\n",
              "            <td>Paris</td>\n",
              "            <td>paris-raymondlosserand-145</td>\n",
              "            <td>STATION</td>\n",
              "            <td>48.83126, 2.313088</td>\n",
              "            <td>75014</td>\n",
              "            <td>Paris/Raymond Losserand/145</td>\n",
              "            <td>operational</td>\n",
              "            <td>0</td>\n",
              "            <td>station</td>\n",
              "            <td>ok</td>\n",
              "            <td>nonexistent</td>\n",
              "            <td>2018</td>\n",
              "            <td>4</td>\n",
              "            <td>6</td>\n",
              "            <td>7</td>\n",
              "            <td>24</td>\n",
              "        </tr>\n",
              "        <tr>\n",
              "            <td>2</td>\n",
              "            <td>2 Avenue John Fitzgerald Kennedy</td>\n",
              "            <td>3</td>\n",
              "            <td>3</td>\n",
              "            <td>0</td>\n",
              "            <td>2</td>\n",
              "            <td>0</td>\n",
              "            <td>operational</td>\n",
              "            <td>Le Bourget</td>\n",
              "            <td>lebourget-johnfitzgeraldkennedy-2</td>\n",
              "            <td>STATION</td>\n",
              "            <td>48.938103, 2.4286035</td>\n",
              "            <td>93350</td>\n",
              "            <td>Le Bourget/John Fitzgerald Kennedy/2</td>\n",
              "            <td>operational</td>\n",
              "            <td>1</td>\n",
              "            <td>station</td>\n",
              "            <td>ok</td>\n",
              "            <td>nonexistent</td>\n",
              "            <td>2018</td>\n",
              "            <td>4</td>\n",
              "            <td>3</td>\n",
              "            <td>20</td>\n",
              "            <td>14</td>\n",
              "        </tr>\n",
              "        <tr>\n",
              "            <td>3</td>\n",
              "            <td>51 Rue EugÃ¨ne OudinÃ©</td>\n",
              "            <td>3</td>\n",
              "            <td>3</td>\n",
              "            <td>1</td>\n",
              "            <td>0</td>\n",
              "            <td>1</td>\n",
              "            <td>operational</td>\n",
              "            <td>Paris</td>\n",
              "            <td>paris-eugeneoudine-51</td>\n",
              "            <td>STATION</td>\n",
              "            <td>48.8250327, 2.3725162</td>\n",
              "            <td>75013</td>\n",
              "            <td>Paris/EugÃ¨ne OudinÃ©/51</td>\n",
              "            <td>operational</td>\n",
              "            <td>2</td>\n",
              "            <td>station</td>\n",
              "            <td>ok</td>\n",
              "            <td>nonexistent</td>\n",
              "            <td>2018</td>\n",
              "            <td>4</td>\n",
              "            <td>4</td>\n",
              "            <td>4</td>\n",
              "            <td>37</td>\n",
              "        </tr>\n",
              "        <tr>\n",
              "            <td>4</td>\n",
              "            <td>6 avenue de la Porte de Champerret</td>\n",
              "            <td>3</td>\n",
              "            <td>3</td>\n",
              "            <td>0</td>\n",
              "            <td>0</td>\n",
              "            <td>0</td>\n",
              "            <td>nonexistent</td>\n",
              "            <td>Paris</td>\n",
              "            <td>paris-portedechamperret-6</td>\n",
              "            <td>PARKING</td>\n",
              "            <td>48.8862632, 2.2874511</td>\n",
              "            <td>75017</td>\n",
              "            <td>Paris/Porte de Champerret/6</td>\n",
              "            <td>operational</td>\n",
              "            <td>3</td>\n",
              "            <td>station</td>\n",
              "            <td>ok</td>\n",
              "            <td>nonexistent</td>\n",
              "            <td>2018</td>\n",
              "            <td>4</td>\n",
              "            <td>8</td>\n",
              "            <td>17</td>\n",
              "            <td>23</td>\n",
              "        </tr>\n",
              "    </tbody>\n",
              "</table>"
            ],
            "text/plain": [
              "[(0, '2 Avenue de Suffren', 0, 0, 0, 0, 0, 'nonexistent', 'Paris', 'paris-suffren-2', 'STATION', '48.857, 2.2917', 75015, 'Paris/Suffren/2', 'operational', 2, 'station', 'ok', 'nonexistent', 2018, 4, 8, 11, 43),\n",
              " (1, '145 Rue Raymond Losserand', 6, 6, 0, 0, 0, 'operational', 'Paris', 'paris-raymondlosserand-145', 'STATION', '48.83126, 2.313088', 75014, 'Paris/Raymond Losserand/145', 'operational', 0, 'station', 'ok', 'nonexistent', 2018, 4, 6, 7, 24),\n",
              " (2, '2 Avenue John Fitzgerald Kennedy', 3, 3, 0, 2, 0, 'operational', 'Le Bourget', 'lebourget-johnfitzgeraldkennedy-2', 'STATION', '48.938103, 2.4286035', 93350, 'Le Bourget/John Fitzgerald Kennedy/2', 'operational', 1, 'station', 'ok', 'nonexistent', 2018, 4, 3, 20, 14),\n",
              " (3, '51 Rue EugÃ¨ne OudinÃ©', 3, 3, 1, 0, 1, 'operational', 'Paris', 'paris-eugeneoudine-51', 'STATION', '48.8250327, 2.3725162', 75013, 'Paris/EugÃ¨ne OudinÃ©/51', 'operational', 2, 'station', 'ok', 'nonexistent', 2018, 4, 4, 4, 37),\n",
              " (4, '6 avenue de la Porte de Champerret', 3, 3, 0, 0, 0, 'nonexistent', 'Paris', 'paris-portedechamperret-6', 'PARKING', '48.8862632, 2.2874511', 75017, 'Paris/Porte de Champerret/6', 'operational', 3, 'station', 'ok', 'nonexistent', 2018, 4, 8, 17, 23)]"
            ]
          },
          "metadata": {
            "tags": []
          },
          "execution_count": 6
        }
      ]
    },
    {
      "cell_type": "markdown",
      "metadata": {
        "id": "GJwDNT8JohVC"
      },
      "source": [
        "# 1.3 Answering questions"
      ]
    },
    {
      "cell_type": "code",
      "metadata": {
        "colab": {
          "base_uri": "https://localhost:8080/",
          "height": 95
        },
        "id": "A_Vuifiwo51w",
        "outputId": "392e8545-37ed-4e11-d14d-ad5dd6f10df6"
      },
      "source": [
        "#most popular hour of picking a car in paris\n",
        "%%sql\n",
        "select City,hour,count(hour)from Gari\n",
        "where City='Paris' AND month =4 AND year=2018 AND Slots < 7 group by hour \n",
        "order by count(hour) desc limit 1"
      ],
      "execution_count": null,
      "outputs": [
        {
          "output_type": "stream",
          "text": [
            " * sqlite://\n",
            "Done.\n"
          ],
          "name": "stdout"
        },
        {
          "output_type": "execute_result",
          "data": {
            "text/html": [
              "<table>\n",
              "    <thead>\n",
              "        <tr>\n",
              "            <th>City</th>\n",
              "            <th>hour</th>\n",
              "            <th>count(hour)</th>\n",
              "        </tr>\n",
              "    </thead>\n",
              "    <tbody>\n",
              "        <tr>\n",
              "            <td>Paris</td>\n",
              "            <td>21</td>\n",
              "            <td>147</td>\n",
              "        </tr>\n",
              "    </tbody>\n",
              "</table>"
            ],
            "text/plain": [
              "[('Paris', 21, 147)]"
            ]
          },
          "metadata": {
            "tags": []
          },
          "execution_count": 7
        }
      ]
    },
    {
      "cell_type": "code",
      "metadata": {
        "colab": {
          "base_uri": "https://localhost:8080/",
          "height": 95
        },
        "id": "h9jYvo3mpEIs",
        "outputId": "248fc5f3-3499-49b6-a443-d3d1369419a9"
      },
      "source": [
        "#What is the most popular hour for returning cars\n",
        "%%sql\n",
        "select hour,count(hour)from Gari\n",
        "where  Slots >0 group by hour \n",
        "order by count(hour) desc limit 1"
      ],
      "execution_count": null,
      "outputs": [
        {
          "output_type": "stream",
          "text": [
            " * sqlite://\n",
            "Done.\n"
          ],
          "name": "stdout"
        },
        {
          "output_type": "execute_result",
          "data": {
            "text/html": [
              "<table>\n",
              "    <thead>\n",
              "        <tr>\n",
              "            <th>hour</th>\n",
              "            <th>count(hour)</th>\n",
              "        </tr>\n",
              "    </thead>\n",
              "    <tbody>\n",
              "        <tr>\n",
              "            <td>16</td>\n",
              "            <td>152</td>\n",
              "        </tr>\n",
              "    </tbody>\n",
              "</table>"
            ],
            "text/plain": [
              "[(16, 152)]"
            ]
          },
          "metadata": {
            "tags": []
          },
          "execution_count": 8
        }
      ]
    },
    {
      "cell_type": "code",
      "metadata": {
        "colab": {
          "base_uri": "https://localhost:8080/",
          "height": 95
        },
        "id": "IaAE3PwbpKEl",
        "outputId": "6f9bde35-84c6-4bd9-a5d5-eda86ba2709a"
      },
      "source": [
        "#most popular station.\n",
        "%%sql\n",
        "select \"Station type\", count(\"Station type\") from Gari\n",
        "group by \"Station type\" order by count(\"Station type\") desc limit 1"
      ],
      "execution_count": null,
      "outputs": [
        {
          "output_type": "stream",
          "text": [
            " * sqlite://\n",
            "Done.\n"
          ],
          "name": "stdout"
        },
        {
          "output_type": "execute_result",
          "data": {
            "text/html": [
              "<table>\n",
              "    <thead>\n",
              "        <tr>\n",
              "            <th>Station type</th>\n",
              "            <th>count(&quot;Station type&quot;)</th>\n",
              "        </tr>\n",
              "    </thead>\n",
              "    <tbody>\n",
              "        <tr>\n",
              "            <td>station</td>\n",
              "            <td>4615</td>\n",
              "        </tr>\n",
              "    </tbody>\n",
              "</table>"
            ],
            "text/plain": [
              "[('station', 4615)]"
            ]
          },
          "metadata": {
            "tags": []
          },
          "execution_count": 9
        }
      ]
    },
    {
      "cell_type": "code",
      "metadata": {
        "colab": {
          "base_uri": "https://localhost:8080/",
          "height": 95
        },
        "id": "1jdx34AppTDy",
        "outputId": "0e768b29-b798-4912-cee6-dbde4a5810f1"
      },
      "source": [
        "#most popular station at the most popular picking hour.\n",
        "%%sql\n",
        "select \"Station type\", count(\"Station type\") from Gari\n",
        "where \"hour\" =21\n",
        "group by \"Station type\" order by count(\"Station type\") desc limit 1"
      ],
      "execution_count": null,
      "outputs": [
        {
          "output_type": "stream",
          "text": [
            " * sqlite://\n",
            "Done.\n"
          ],
          "name": "stdout"
        },
        {
          "output_type": "execute_result",
          "data": {
            "text/html": [
              "<table>\n",
              "    <thead>\n",
              "        <tr>\n",
              "            <th>Station type</th>\n",
              "            <th>count(&quot;Station type&quot;)</th>\n",
              "        </tr>\n",
              "    </thead>\n",
              "    <tbody>\n",
              "        <tr>\n",
              "            <td>station</td>\n",
              "            <td>220</td>\n",
              "        </tr>\n",
              "    </tbody>\n",
              "</table>"
            ],
            "text/plain": [
              "[('station', 220)]"
            ]
          },
          "metadata": {
            "tags": []
          },
          "execution_count": 10
        }
      ]
    },
    {
      "cell_type": "code",
      "metadata": {
        "colab": {
          "base_uri": "https://localhost:8080/",
          "height": 95
        },
        "id": "ivGjA18VpXy9",
        "outputId": "4422e0d9-87c4-4453-8cd5-cb0cf39ac29c"
      },
      "source": [
        "#what postal code is most popular for picking up blue cars.\n",
        "%%sql\n",
        "select \"Postal code\", count(\"Postal code\") from Gari\n",
        "where \"Bluecar counter\"> 0 AND Slots< 7\n",
        "group by \"Postal code\" \n",
        "order by count(\"Postal code\") desc limit 1"
      ],
      "execution_count": 33,
      "outputs": [
        {
          "output_type": "stream",
          "text": [
            " * sqlite://\n",
            "Done.\n"
          ],
          "name": "stdout"
        },
        {
          "output_type": "execute_result",
          "data": {
            "text/html": [
              "<table>\n",
              "    <thead>\n",
              "        <tr>\n",
              "            <th>Postal code</th>\n",
              "            <th>count(&quot;Postal code&quot;)</th>\n",
              "        </tr>\n",
              "    </thead>\n",
              "    <tbody>\n",
              "        <tr>\n",
              "            <td>75015</td>\n",
              "            <td>195</td>\n",
              "        </tr>\n",
              "    </tbody>\n",
              "</table>"
            ],
            "text/plain": [
              "[(75015, 195)]"
            ]
          },
          "metadata": {
            "tags": []
          },
          "execution_count": 33
        }
      ]
    },
    {
      "cell_type": "code",
      "metadata": {
        "colab": {
          "base_uri": "https://localhost:8080/",
          "height": 95
        },
        "id": "5fPEX2mqpipy",
        "outputId": "ebaed33f-0ffc-4e3c-b095-65e4d0c75734"
      },
      "source": [
        "#what postal code most popular picking blue car at most popular picking hour.\n",
        "%%sql\n",
        "select \"Postal code\", count(\"Postal code\") from Gari\n",
        "where \"Bluecar counter\"> 0 AND Slots< 7 AND \"hour\" =21\n",
        "group by \"Postal code\" \n",
        "order by count(\"Postal code\") desc limit 1"
      ],
      "execution_count": 32,
      "outputs": [
        {
          "output_type": "stream",
          "text": [
            " * sqlite://\n",
            "Done.\n"
          ],
          "name": "stdout"
        },
        {
          "output_type": "execute_result",
          "data": {
            "text/html": [
              "<table>\n",
              "    <thead>\n",
              "        <tr>\n",
              "            <th>Postal code</th>\n",
              "            <th>count(&quot;Postal code&quot;)</th>\n",
              "        </tr>\n",
              "    </thead>\n",
              "    <tbody>\n",
              "        <tr>\n",
              "            <td>75014</td>\n",
              "            <td>12</td>\n",
              "        </tr>\n",
              "    </tbody>\n",
              "</table>"
            ],
            "text/plain": [
              "[(75014, 12)]"
            ]
          },
          "metadata": {
            "tags": []
          },
          "execution_count": 32
        }
      ]
    },
    {
      "cell_type": "code",
      "metadata": {
        "colab": {
          "base_uri": "https://localhost:8080/",
          "height": 95
        },
        "id": "iIuQc1_mpvJy",
        "outputId": "7eae2f57-cd5c-4aed-abca-93a0e3b5ef4b"
      },
      "source": [
        "#do the results change usng utilib and utilib 1.4\n",
        "#utilib\n",
        "#not the same\n",
        "%%sql\n",
        "select \"Postal code\", count(\"Postal code\") from Gari\n",
        "where \"Utilib counter\"> 0 AND Slots< 5 AND \"hour\" =21\n",
        "group by \"Postal code\" \n",
        "order by count(\"Postal code\") desc limit 1"
      ],
      "execution_count": 30,
      "outputs": [
        {
          "output_type": "stream",
          "text": [
            " * sqlite://\n",
            "Done.\n"
          ],
          "name": "stdout"
        },
        {
          "output_type": "execute_result",
          "data": {
            "text/html": [
              "<table>\n",
              "    <thead>\n",
              "        <tr>\n",
              "            <th>Postal code</th>\n",
              "            <th>count(&quot;Postal code&quot;)</th>\n",
              "        </tr>\n",
              "    </thead>\n",
              "    <tbody>\n",
              "        <tr>\n",
              "            <td>75014</td>\n",
              "            <td>2</td>\n",
              "        </tr>\n",
              "    </tbody>\n",
              "</table>"
            ],
            "text/plain": [
              "[(75014, 2)]"
            ]
          },
          "metadata": {
            "tags": []
          },
          "execution_count": 30
        }
      ]
    },
    {
      "cell_type": "code",
      "metadata": {
        "colab": {
          "base_uri": "https://localhost:8080/",
          "height": 95
        },
        "id": "p3Fcnw1up8jq",
        "outputId": "563f47be-270c-421c-cf43-b2a58c1e6f49"
      },
      "source": [
        "#utilib again\n",
        "#not the same.\n",
        "%%sql\n",
        "select \"Postal code\", count(\"Postal code\") from Gari\n",
        "where \"Utilib counter\"> 0 AND Slots< 5\n",
        "group by \"Postal code\" \n",
        "order by count(\"Postal code\") desc limit 1"
      ],
      "execution_count": 29,
      "outputs": [
        {
          "output_type": "stream",
          "text": [
            " * sqlite://\n",
            "Done.\n"
          ],
          "name": "stdout"
        },
        {
          "output_type": "execute_result",
          "data": {
            "text/html": [
              "<table>\n",
              "    <thead>\n",
              "        <tr>\n",
              "            <th>Postal code</th>\n",
              "            <th>count(&quot;Postal code&quot;)</th>\n",
              "        </tr>\n",
              "    </thead>\n",
              "    <tbody>\n",
              "        <tr>\n",
              "            <td>75017</td>\n",
              "            <td>20</td>\n",
              "        </tr>\n",
              "    </tbody>\n",
              "</table>"
            ],
            "text/plain": [
              "[(75017, 20)]"
            ]
          },
          "metadata": {
            "tags": []
          },
          "execution_count": 29
        }
      ]
    },
    {
      "cell_type": "code",
      "metadata": {
        "colab": {
          "base_uri": "https://localhost:8080/",
          "height": 95
        },
        "id": "X9VSBMNRqCcY",
        "outputId": "60f25df2-0dd2-402c-94da-abaf63e43385"
      },
      "source": [
        "#utlib 1.4\n",
        "%%sql\n",
        "select \"Postal code\", count(\"Postal code\") from Gari\n",
        "where \"Utilib 1.4 counter\"> 0 AND Slots< 4\n",
        "group by \"Postal code\" \n",
        "order by count(\"Postal code\") desc limit 1"
      ],
      "execution_count": 28,
      "outputs": [
        {
          "output_type": "stream",
          "text": [
            " * sqlite://\n",
            "Done.\n"
          ],
          "name": "stdout"
        },
        {
          "output_type": "execute_result",
          "data": {
            "text/html": [
              "<table>\n",
              "    <thead>\n",
              "        <tr>\n",
              "            <th>Postal code</th>\n",
              "            <th>count(&quot;Postal code&quot;)</th>\n",
              "        </tr>\n",
              "    </thead>\n",
              "    <tbody>\n",
              "        <tr>\n",
              "            <td>75017</td>\n",
              "            <td>36</td>\n",
              "        </tr>\n",
              "    </tbody>\n",
              "</table>"
            ],
            "text/plain": [
              "[(75017, 36)]"
            ]
          },
          "metadata": {
            "tags": []
          },
          "execution_count": 28
        }
      ]
    },
    {
      "cell_type": "code",
      "metadata": {
        "colab": {
          "base_uri": "https://localhost:8080/",
          "height": 95
        },
        "id": "6aeh81ViqJVD",
        "outputId": "c67ce698-3d1b-4bc3-c205-74b53a86d62a"
      },
      "source": [
        "#utilib 1.4 \n",
        "%%sql\n",
        "select \"Postal code\", count(\"Postal code\") from Gari\n",
        "where \"Utilib 1.4 counter\"> 0 AND Slots< 4 AND \"hour\" =21\n",
        "group by \"Postal code\" \n",
        "order by count(\"Postal code\") desc limit 1"
      ],
      "execution_count": 27,
      "outputs": [
        {
          "output_type": "stream",
          "text": [
            " * sqlite://\n",
            "Done.\n"
          ],
          "name": "stdout"
        },
        {
          "output_type": "execute_result",
          "data": {
            "text/html": [
              "<table>\n",
              "    <thead>\n",
              "        <tr>\n",
              "            <th>Postal code</th>\n",
              "            <th>count(&quot;Postal code&quot;)</th>\n",
              "        </tr>\n",
              "    </thead>\n",
              "    <tbody>\n",
              "        <tr>\n",
              "            <td>75014</td>\n",
              "            <td>5</td>\n",
              "        </tr>\n",
              "    </tbody>\n",
              "</table>"
            ],
            "text/plain": [
              "[(75014, 5)]"
            ]
          },
          "metadata": {
            "tags": []
          },
          "execution_count": 27
        }
      ]
    }
  ]
}